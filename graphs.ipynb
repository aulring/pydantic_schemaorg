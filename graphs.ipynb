{
 "cells": [
  {
   "cell_type": "code",
   "execution_count": 4,
   "id": "a04754ea",
   "metadata": {},
   "outputs": [],
   "source": [
    "%matplotlib inline\n",
    "import networkx as nx\n",
    "import matplotlib.pyplot as plt"
   ]
  },
  {
   "cell_type": "code",
   "execution_count": 5,
   "id": "040a2bad",
   "metadata": {},
   "outputs": [],
   "source": [
    "triangle_graph = nx.from_edgelist([(1, 2), (2, 3), (3, 1)], create_using=nx.DiGraph)"
   ]
  },
  {
   "cell_type": "code",
   "execution_count": 6,
   "id": "0da8c49e",
   "metadata": {},
   "outputs": [
    {
     "data": {
      "image/png": "[encoded data removed]",
      "text/plain": [
       "<Figure size 640x480 with 1 Axes>"
      ]
     },
     "metadata": {},
     "output_type": "display_data"
    }
   ],
   "source": [
    "nx.draw_planar(\n",
    "    triangle_graph,\n",
    "    with_labels=True,\n",
    "    node_size=1000,\n",
    "    node_color=\"#ffff8f\",\n",
    "    width=0.8,\n",
    "    font_size=14,\n",
    ")"
   ]
  },
  {
   "cell_type": "code",
   "execution_count": 12,
   "id": "4e7c68bd",
   "metadata": {},
   "outputs": [],
   "source": [
    "G = nx.DiGraph()"
   ]
  },
  {
   "cell_type": "code",
   "execution_count": 13,
   "id": "cc482c60",
   "metadata": {},
   "outputs": [],
   "source": [
    "#G.add_node(\"ModelX\")\n",
    "#G.add_node(\"ModelY\")\n",
    "G.add_edge(\"ModelX\", \"ModelY\")"
   ]
  },
  {
   "cell_type": "code",
   "execution_count": 14,
   "id": "b5ec6904",
   "metadata": {},
   "outputs": [
    {
     "data": {
      "image/png": "[encoded data removed]",
      "text/plain": [
       "<Figure size 640x480 with 1 Axes>"
      ]
     },
     "metadata": {},
     "output_type": "display_data"
    }
   ],
   "source": [
    "nx.draw_planar(\n",
    "    G,\n",
    "    with_labels=True,\n",
    "    node_size=1000,\n",
    "    node_color=\"#ffff8f\",\n",
    "    width=0.8,\n",
    "    font_size=14,\n",
    ")"
   ]
  },
  {
   "cell_type": "code",
   "execution_count": 96,
   "id": "4f5ef161",
   "metadata": {},
   "outputs": [
    {
     "name": "stdout",
     "output_type": "stream",
     "text": [
      "cannont initialize ModelA at this time. Will create dependency graph and execute later.\n",
      "dynamic_creation('ModelZ')\n",
      "cannont initialize ModelX at this time. Will create dependency graph and execute later.\n",
      "dynamic_creation('ModelZ')\n",
      "cannont initialize ModelZ at this time. Will create dependency graph and execute later.\n",
      "dynamic_creation('ModelN')\n",
      "initialized model: ModelN\n",
      "resolving dependency ModelA\n",
      "cannont initialize ModelA at this time. Will create dependency graph and execute later.\n",
      "dynamic_creation('ModelZ')\n",
      "resolving dependency ModelX\n",
      "cannont initialize ModelX at this time. Will create dependency graph and execute later.\n",
      "dynamic_creation('ModelZ')\n",
      "resolving dependency ModelZ\n",
      "initialized model: ModelZ\n",
      "resolving dependency ModelN\n"
     ]
    }
   ],
   "source": [
    "import re\n",
    "from typing import Optional\n",
    "\n",
    "import networkx as nx\n",
    "from pydantic import create_model, BaseModel\n",
    "\n",
    "\n",
    "#init\n",
    "INITIALIZED_MODELS = {}\n",
    "\n",
    "class DependencyDict(dict):\n",
    "    G = nx.DiGraph()\n",
    "    failure = {}\n",
    "    \n",
    "    @staticmethod\n",
    "    def get_model_from_str(field: str):\n",
    "        print(field)\n",
    "        m = re.search(r\"\\(([A-Z'a-z0-9_]+)\\)\", field)\n",
    "        return m.group(1).replace(\"'\", \"\")\n",
    "    \n",
    "    \n",
    "    def resolve_dependency_graph(self):\n",
    "        if not LOOKUP.G.is_directed():\n",
    "            raise ValueError(\"Can only resolve directed dependencies.\")\n",
    "        for n in nx.topological_sort(self.G):\n",
    "            print(f\"resolving dependency {n}\")\n",
    "            model = str(n)\n",
    "            if model in self.failure:\n",
    "                fields = self.failure[model]\n",
    "                self.__setitem__(model, fields)\n",
    "            else:\n",
    "                if not model in INITIALIZED_MODELS:\n",
    "                    raise ValueError(\"unknown error. model is not in initialized models or failures!\")\n",
    "        \n",
    "            \n",
    "  \n",
    "    def __setitem__(self, *args, **kwargs):\n",
    "        failed = False\n",
    "        model, fields =  args\n",
    "        for field_key, types in fields.items():\n",
    "            if  isinstance(types[0], str):\n",
    "                if not \"dynamic_creation\" in types[0]:\n",
    "                    raise ValueError(\"Unhandled situation\")\n",
    "                try:\n",
    "                    initialized = eval(types[0])\n",
    "                    print(f\"initialized model: {model}\")\n",
    "                except KeyError as e:\n",
    "                    print(f\"cannont initialize {model} at this time. Will create dependency graph and execute later.\")\n",
    "                    self.G.add_edge(model, self.get_model_from_str(types[0]))\n",
    "                    failed = True\n",
    "        if failed:\n",
    "            self.failure[model] = fields\n",
    "        else:\n",
    "            super().__setitem__(*args, **kwargs)\n",
    "        \n",
    "        \n",
    "\n",
    "LOOKUP = DependencyDict()\n",
    "\n",
    "\n",
    "def dynamic_creation(model: str):\n",
    "    if model not in INITIALIZED_MODELS:\n",
    "        fields = LOOKUP[model]\n",
    "        dynamic_creation = create_model(model, __base__=BaseModel, **fields)\n",
    "        INITIALIZED_MODELS[model] = dynamic_creation\n",
    "        return dynamic_creation\n",
    "    else:\n",
    "        return INITIALIZED_MODELS[model]\n",
    "\n",
    "    \n",
    "LOOKUP[\"ModelY\"] =  {'field4': (str, None), 'field5': (Optional[str], None)}\n",
    "LOOKUP[\"ModelX\"] =  {'field4': (str, None), 'field5': (Optional[str], None)}\n",
    "LOOKUP[\"ModelA\"] =  {'field1': (str, None), 'field2': (Optional[str], None), \"field3\": (\"dynamic_creation('ModelZ')\", None)}\n",
    "LOOKUP[\"ModelX\"] =  {'field1': (str, None), 'field2': (Optional[str], None), \"field3\": (\"dynamic_creation('ModelZ')\", None)}\n",
    "LOOKUP[\"ModelZ\"] =  {'field1': (str, None), 'field2': (Optional[str], None), \"field4\": (\"dynamic_creation('ModelN')\", None)}\n",
    "LOOKUP[\"ModelN\"] =  {'field1': (str, None), 'field2': (Optional[str], None), \"field4\": (\"dynamic_creation('ModelY')\", None)}\n",
    "\n",
    "\n",
    "LOOKUP.resolve_dependency_graph()\n",
    "#dynamic_creation(\"ModelA\")\n",
    "ModelZ = dynamic_creation(\"ModelZ\")\n",
    "ModelX = dynamic_creation(\"ModelX\")\n"
   ]
  },
  {
   "cell_type": "code",
   "execution_count": 100,
   "id": "d40ab62a",
   "metadata": {},
   "outputs": [
    {
     "data": {
      "text/plain": [
       "'{\"title\": \"ModelX\", \"type\": \"object\", \"properties\": {\"field4\": {\"title\": \"Field4\", \"type\": \"string\"}, \"field5\": {\"title\": \"Field5\", \"type\": \"string\"}}}'"
      ]
     },
     "execution_count": 100,
     "metadata": {},
     "output_type": "execute_result"
    }
   ],
   "source": [
    "ModelX.schema_json()"
   ]
  },
  {
   "cell_type": "code",
   "execution_count": 93,
   "id": "4ca6bb9e",
   "metadata": {},
   "outputs": [
    {
     "data": {
      "image/png": "[encoded data removed]",
      "text/plain": [
       "<Figure size 640x480 with 1 Axes>"
      ]
     },
     "metadata": {},
     "output_type": "display_data"
    }
   ],
   "source": [
    "nx.draw_planar(\n",
    "    LOOKUP.G,\n",
    "    with_labels=True,\n",
    "    node_size=1000,\n",
    "    node_color=\"#ffff8f\",\n",
    "    width=0.8,\n",
    "    font_size=14,\n",
    ")"
   ]
  },
  {
   "cell_type": "code",
   "execution_count": 71,
   "id": "daeec878",
   "metadata": {},
   "outputs": [
    {
     "data": {
      "text/plain": [
       "True"
      ]
     },
     "execution_count": 71,
     "metadata": {},
     "output_type": "execute_result"
    }
   ],
   "source": [
    "LOOKUP.G.is_directed()"
   ]
  },
  {
   "cell_type": "code",
   "execution_count": 80,
   "id": "4eb74338",
   "metadata": {},
   "outputs": [
    {
     "name": "stdout",
     "output_type": "stream",
     "text": [
      "ModelA\n",
      "ModelX\n",
      "ModelZ\n",
      "ModelN\n",
      "ModelY\n"
     ]
    }
   ],
   "source": [
    "for n in nx.topological_sort(LOOKUP.G):\n",
    "    print(n)"
   ]
  },
  {
   "cell_type": "code",
   "execution_count": 78,
   "id": "bae79aa3",
   "metadata": {},
   "outputs": [
    {
     "ename": "AttributeError",
     "evalue": "'generator' object has no attribute 'adjacency'",
     "output_type": "error",
     "traceback": [
      "\u001b[0;31m---------------------------------------------------------------------------\u001b[0m",
      "\u001b[0;31mAttributeError\u001b[0m                            Traceback (most recent call last)",
      "Cell \u001b[0;32mIn [78], line 1\u001b[0m\n\u001b[0;32m----> 1\u001b[0m \u001b[38;5;28;01mfor\u001b[39;00m n, nbrsdict \u001b[38;5;129;01min\u001b[39;00m \u001b[43mnx\u001b[49m\u001b[38;5;241;43m.\u001b[39;49m\u001b[43mtopological_sort\u001b[49m\u001b[43m(\u001b[49m\u001b[43mLOOKUP\u001b[49m\u001b[38;5;241;43m.\u001b[39;49m\u001b[43mG\u001b[49m\u001b[43m)\u001b[49m\u001b[38;5;241;43m.\u001b[39;49m\u001b[43madjacency\u001b[49m():\n\u001b[1;32m      2\u001b[0m     \u001b[38;5;28mprint\u001b[39m(\u001b[38;5;124m\"\u001b[39m\u001b[38;5;124mn\u001b[39m\u001b[38;5;124m\"\u001b[39m,n , nx\u001b[38;5;241m.\u001b[39mancestors(LOOKUP\u001b[38;5;241m.\u001b[39mG, n))\n\u001b[1;32m      3\u001b[0m     \u001b[38;5;66;03m#print(nbrsdict)\u001b[39;00m\n\u001b[1;32m      4\u001b[0m \u001b[38;5;66;03m#     for nbr, eattr in nbrsdict.items():\u001b[39;00m\n\u001b[1;32m      5\u001b[0m \u001b[38;5;66;03m#         print(nbr)\u001b[39;00m\n",
      "\u001b[0;31mAttributeError\u001b[0m: 'generator' object has no attribute 'adjacency'"
     ]
    }
   ],
   "source": [
    "for n, nbrsdict in nx.topological_sort(LOOKUP.G).adjacency():\n",
    "    print(\"n\",n , nx.ancestors(LOOKUP.G, n))\n",
    "    #print(nbrsdict)\n",
    "#     for nbr, eattr in nbrsdict.items():\n",
    "#         print(nbr)"
   ]
  },
  {
   "cell_type": "code",
   "execution_count": 84,
   "id": "a9cd92b9",
   "metadata": {},
   "outputs": [],
   "source": [
    "for n in LOOKUP.G:\n",
    "    x = n"
   ]
  },
  {
   "cell_type": "code",
   "execution_count": 85,
   "id": "65f84980",
   "metadata": {},
   "outputs": [
    {
     "data": {
      "text/plain": [
       "'ModelY'"
      ]
     },
     "execution_count": 85,
     "metadata": {},
     "output_type": "execute_result"
    }
   ],
   "source": [
    "x.s"
   ]
  },
  {
   "cell_type": "code",
   "execution_count": null,
   "id": "9e864448",
   "metadata": {},
   "outputs": [],
   "source": []
  }
 ],
 "metadata": {
  "kernelspec": {
   "display_name": "Python 3 (ipykernel)",
   "language": "python",
   "name": "python3"
  },
  "language_info": {
   "codemirror_mode": {
    "name": "ipython",
    "version": 3
   },
   "file_extension": ".py",
   "mimetype": "text/x-python",
   "name": "python",
   "nbconvert_exporter": "python",
   "pygments_lexer": "ipython3",
   "version": "3.9.1"
  }
 },
 "nbformat": 4,
 "nbformat_minor": 5
}
